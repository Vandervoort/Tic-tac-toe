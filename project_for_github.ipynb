{
 "cells": [
  {
   "cell_type": "code",
   "execution_count": 1,
   "metadata": {},
   "outputs": [],
   "source": [
    "import numpy as np"
   ]
  },
  {
   "cell_type": "code",
   "execution_count": 12,
   "metadata": {},
   "outputs": [
    {
     "name": "stdout",
     "output_type": "stream",
     "text": [
      "[[0 0 0]\n",
      " [0 1 0]\n",
      " [0 0 0]]\n"
     ]
    }
   ],
   "source": [
    "def create_board(board): #creates the board\n",
    "    return(np.zeros((board), dtype=int))\n",
    "\n",
    "board = create_board((3,3)) #creates an instance of the board\n",
    "\n",
    "def place(board, player, position): #make a move on the board\n",
    "    if player == 1 or player == 2:\n",
    "        if type(position) == tuple and len(position) == 2 and max(position) <= 2 and min(position) >= 0:\n",
    "            if board[position] == 0:\n",
    "                board[position] = player\n",
    "                print(board)\n",
    "            else:\n",
    "                print('Error: someone already played that move')\n",
    "        else:\n",
    "            print('Error: position must be tuple length 2 within the board dimensions')\n",
    "    else:\n",
    "        print('Error: player must be an integer 1 or 2')"
   ]
  },
  {
   "cell_type": "markdown",
   "metadata": {},
   "source": [
    "Now you can start playing until you run out of options. Try playing place(board, 1, (1,0))"
   ]
  },
  {
   "cell_type": "code",
   "execution_count": 29,
   "metadata": {},
   "outputs": [],
   "source": [
    "def row_win(board, player): #defining winning conditions: winning in a row\n",
    "    if np.any(np.all(board==player, axis=1)):\n",
    "        return True\n",
    "    else:\n",
    "        return False\n",
    "    \n",
    "def col_win(board, player): #defining winning conditions: winning in a column\n",
    "    if np.any(np.all(board==player, axis=0)):\n",
    "        return True\n",
    "    else:\n",
    "        return False\n",
    "    \n",
    "def diag_win(board, player): #defining winning conditions: winning in a diagnonal\n",
    "    if np.all(np.diag(board)==player) or np.all(np.diag(np.fliplr(board))==player):\n",
    "        return True\n",
    "    else:\n",
    "        return False\n",
    "    \n",
    "def evaluate(board): #pulling all winning conditions together\n",
    "    winner = 0\n",
    "    for player in [1, 2]:\n",
    "        if row_win(board, player) or col_win(board, player) or diag_win(board, player):\n",
    "            winner = player\n",
    "    if np.all(board != 0) and winner == 0:\n",
    "        print('This game is a tie')\n",
    "    return winner"
   ]
  },
  {
   "cell_type": "markdown",
   "metadata": {},
   "source": [
    "Now you can play until the end of a game and check who won once you have run out of options to play"
   ]
  }
 ],
 "metadata": {
  "kernelspec": {
   "display_name": "Python 3",
   "language": "python",
   "name": "python3"
  },
  "language_info": {
   "codemirror_mode": {
    "name": "ipython",
    "version": 3
   },
   "file_extension": ".py",
   "mimetype": "text/x-python",
   "name": "python",
   "nbconvert_exporter": "python",
   "pygments_lexer": "ipython3",
   "version": "3.7.6"
  }
 },
 "nbformat": 4,
 "nbformat_minor": 4
}
